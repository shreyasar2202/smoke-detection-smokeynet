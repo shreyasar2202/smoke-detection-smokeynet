{
 "cells": [
  {
   "cell_type": "code",
   "execution_count": null,
   "id": "f073f0ab",
   "metadata": {},
   "outputs": [],
   "source": [
    "import sagemaker\n",
    "role = sagemaker.get_execution_role()\n",
    "#role = \"sagemaker-role\"\n",
    "# vpc_config_override = {'Subnets' : ['subnet-42856d3a'], 'SecurityGroupIds' :['sg-a8e070f0']}\n",
    "# subnets = ['subnet-42856d3a']\n",
    "# security_group_ids = ['sg-a8e070f0']"
   ]
  },
  {
   "cell_type": "code",
   "execution_count": null,
   "id": "059c0cac",
   "metadata": {},
   "outputs": [],
   "source": [
    "from sagemaker.pytorch import PyTorch\n",
    "estimator = PyTorch(\n",
    "    entry_point=\"src/main.py\",\n",
    "    role=role,\n",
    "    framework_version=\"1.5.0\",\n",
    "    py_version=\"py3\",\n",
    "    source_dir=\"/home/ec2-user/SageMaker/smoke-detection-smokeynet/\",\n",
    "    instance_count=1,\n",
    "    instance_type=\"ml.g4dn.xlarge\",\n",
    "    hyperparameters={ \"experiment-name\" : \"Final_ResNet_Transformer_SpatialViT\" ,\n",
    "    #\"model-type-list\": [\"RawToTile_ResNet\" ,\"TileToTile_LSTM\" ,\"TileToTileImage_SpatialViT\"],\n",
    "    \"omit-list\": \"omit_no_xml\" ,\n",
    "    \"batch-size\": 2 ,\n",
    "    \"series-length\" : 2 ,\n",
    "    \"accumulate-grad-batches\" : 16 ,\n",
    "    \"num-workers\" : 4 ,\n",
    "    \"train-split-path\": './data/final_split/train_images_final.txt' ,\n",
    "    \"val-split-path\": './data/final_split/val_images_final.txt' ,\n",
    "    \"test-split-path\" : './data/final_split/test_images_final.txt' ,\n",
    "    \"tile-embedding-size\": 1000},\n",
    ")"
   ]
  },
  {
   "cell_type": "code",
   "execution_count": null,
   "id": "30abb6f9",
   "metadata": {},
   "outputs": [],
   "source": [
    "# from sagemaker.inputs import FileSystemInput\n",
    "# file_system_input = FileSystemInput(file_system_id='fs-025101e72b1cc96ca',\n",
    "#                                     file_system_type='EFS',\n",
    "#                                     directory_path='/',\n",
    "#                                     file_system_access_mode='ro')\n",
    "# data_channels = {\"train\": file_system_input}\n",
    "loc = \"s3://smokeynet-reduced-dataset\"\n",
    "channels = {\"training\": loc}\n",
    "estimator.fit(inputs=channels)"
   ]
  },
  {
   "cell_type": "code",
   "execution_count": null,
   "id": "081dd6b8",
   "metadata": {},
   "outputs": [],
   "source": []
  },
  {
   "cell_type": "code",
   "execution_count": null,
   "id": "5bf9e775",
   "metadata": {},
   "outputs": [],
   "source": [
    "###### pt_mnist_model_data = est.model_data\n",
    "print(\"Model artifact saved at:\\n\", pt_mnist_model_data)"
   ]
  },
  {
   "cell_type": "code",
   "execution_count": null,
   "id": "a6dcf669",
   "metadata": {},
   "outputs": [],
   "source": [
    "import os\n",
    "os.system('ls -l /home/ec2-user')"
   ]
  },
  {
   "cell_type": "code",
   "execution_count": null,
   "id": "7cb6e198",
   "metadata": {},
   "outputs": [],
   "source": []
  }
 ],
 "metadata": {
  "kernelspec": {
   "display_name": "conda_pytorch_p38",
   "language": "python",
   "name": "conda_pytorch_p38"
  },
  "language_info": {
   "codemirror_mode": {
    "name": "ipython",
    "version": 3
   },
   "file_extension": ".py",
   "mimetype": "text/x-python",
   "name": "python",
   "nbconvert_exporter": "python",
   "pygments_lexer": "ipython3",
   "version": "3.8.12"
  }
 },
 "nbformat": 4,
 "nbformat_minor": 5
}
