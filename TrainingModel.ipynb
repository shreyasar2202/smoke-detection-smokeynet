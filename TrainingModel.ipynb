{
 "cells": [
  {
   "cell_type": "code",
   "execution_count": null,
   "id": "89611e47",
   "metadata": {},
   "outputs": [],
   "source": [
    "import sagemaker\n",
    "role = sagemaker.get_execution_role()"
   ]
  },
  {
   "cell_type": "code",
   "execution_count": null,
   "id": "ef4e21d3",
   "metadata": {},
   "outputs": [],
   "source": [
    "from sagemaker.pytorch import PyTorch\n",
    "estimator = PyTorch(\n",
    "    entry_point=\"src/main.py\",\n",
    "    role=role,\n",
    "    framework_version=\"1.4.0\",\n",
    "    py_version=\"py3\",\n",
    "    instance_count=1,\n",
    "    instance_type=\"ml.g4dn.xlarge\",\n",
    "    hyperparameters={ \"experiment-name\" : \"Final_ResNet_Transformer_SpatialViT\" ,\n",
    "    \"model-type-list\": [\"RawToTile_ResNet\" ,\"TileToTile_Transformer\" ,\"TileToTileImage_SpatialViT\"],\n",
    "    \"omit-list\": \"omit_no_xml\" ,\n",
    "    \"batch-size\": 2 ,\n",
    "    \"series-length\" : 2 ,\n",
    "    \"accumulate-grad-batches\" : 16 ,\n",
    "    \"num-workers\" : 4 ,\n",
    "    \"train-split-path\": './data/final_split/train_images_final.txt' ,\n",
    "    \"val-split-path\": './data/final_split/val_images_final.txt' ,\n",
    "    \"test-split-path\" : './data/final_split/test_images_final.txt' ,\n",
    "    \"tile-embedding-size\": 1000},\n",
    ")"
   ]
  },
  {
   "cell_type": "code",
   "execution_count": null,
   "id": "c523918e",
   "metadata": {},
   "outputs": [],
   "source": [
    "from sagemaker.inputs import FileSystemInput\n",
    "file_system_input = FileSystemInput(file_system_id='fs-08360dcdf251217dd',\n",
    "                                    file_system_type='EFS',\n",
    "                                    directory_path='/home/ec2-user/SageMaker/efs',\n",
    "                                    file_system_access_mode='ro')\n",
    "estimator.fit(file_system_input)"
   ]
  }
 ],
 "metadata": {
  "kernelspec": {
   "display_name": "conda_pytorch_p38",
   "language": "python",
   "name": "conda_pytorch_p38"
  },
  "language_info": {
   "codemirror_mode": {
    "name": "ipython",
    "version": 3
   },
   "file_extension": ".py",
   "mimetype": "text/x-python",
   "name": "python",
   "nbconvert_exporter": "python",
   "pygments_lexer": "ipython3",
   "version": "3.8.12"
  }
 },
 "nbformat": 4,
 "nbformat_minor": 5
}
