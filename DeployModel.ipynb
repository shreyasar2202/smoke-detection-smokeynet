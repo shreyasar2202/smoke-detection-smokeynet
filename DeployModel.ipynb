{
 "cells": [
  {
   "cell_type": "code",
   "execution_count": 1,
   "id": "66646da1",
   "metadata": {},
   "outputs": [],
   "source": [
    "import os\n",
    "import json\n",
    "\n",
    "import boto3\n",
    "import sagemaker\n",
    "from sagemaker.pytorch import PyTorchModel\n",
    "from sagemaker import get_execution_role, Session\n",
    "\n",
    "\n",
    "\n",
    "sess = Session()\n",
    "\n",
    "role = get_execution_role()\n",
    "model_dir = \"/home/ec2-user/SageMaker/smoke-detection-smokeynet/src\" # Replace with S3"
   ]
  },
  {
   "cell_type": "code",
   "execution_count": 2,
   "id": "012e8fe6",
   "metadata": {},
   "outputs": [],
   "source": [
    "pt_mnist_model_data = sess.upload_data(\n",
    "    path=\"/home/ec2-user/SageMaker/smoke-detection-smokeynet/src/last.tar.gz\", bucket=sess.default_bucket(), key_prefix=\"model/pytorch\"\n",
    ")"
   ]
  },
  {
   "cell_type": "code",
   "execution_count": 3,
   "id": "2b02e3c5",
   "metadata": {},
   "outputs": [],
   "source": [
    "model = PyTorchModel(\n",
    "    entry_point=\"inference.py\",\n",
    "    source_dir=model_dir,\n",
    "    role=role,\n",
    "    model_data=pt_mnist_model_data,\n",
    "    framework_version=\"1.5.0\",\n",
    "    py_version=\"py3\",\n",
    ")"
   ]
  },
  {
   "cell_type": "markdown",
   "id": "bbcaee79",
   "metadata": {},
   "source": [
    "#### Deploy Model"
   ]
  },
  {
   "cell_type": "code",
   "execution_count": 4,
   "id": "e4cfdc2a",
   "metadata": {},
   "outputs": [
    {
     "name": "stdout",
     "output_type": "stream",
     "text": [
      "----------!"
     ]
    }
   ],
   "source": [
    "from sagemaker.serializers import JSONSerializer\n",
    "from sagemaker.deserializers import JSONDeserializer\n",
    "\n",
    "\n",
    "local_mode = False\n",
    "\n",
    "if local_mode:\n",
    "    instance_type = \"local\"\n",
    "else:\n",
    "    instance_type = \"ml.g4dn.xlarge\"\n",
    "\n",
    "predictor = model.deploy(\n",
    "    initial_instance_count=1,\n",
    "    instance_type=instance_type,\n",
    "    serializer=JSONSerializer(),\n",
    "    deserializer=JSONDeserializer(),\n",
    ")"
   ]
  },
  {
   "cell_type": "code",
   "execution_count": 5,
   "id": "7b8b1040",
   "metadata": {},
   "outputs": [],
   "source": [
    "import random\n",
    "import numpy as np\n",
    "import boto3\n",
    "from io import BytesIO\n",
    "import pickle\n",
    "from urllib.parse import urlparse\n",
    "#dummy data must be replaced with processed image tiles\n",
    "dummy_data = np.random.rand(2, 45, 2, 3, 224, 224)\n",
    "s3_client = boto3.client(\"s3\")\n",
    "processed_data = BytesIO()\n",
    "pickle.dump(dummy_data, processed_data)\n",
    "processed_data.seek(0)\n",
    "s3_client.upload_fileobj(processed_data, 'smokynet-inference-images-processed', 'processed_data.pkl')"
   ]
  },
  {
   "cell_type": "code",
   "execution_count": 6,
   "id": "ef73f733",
   "metadata": {},
   "outputs": [],
   "source": [
    "\n",
    "\n",
    "res = predictor.predict({'bucket_name' : 'smokynet-inference-images-processed','file_name':'processed_data.pkl'})"
   ]
  },
  {
   "cell_type": "code",
   "execution_count": null,
   "id": "fb4c7b78",
   "metadata": {},
   "outputs": [],
   "source": [
    "!pip install transformers"
   ]
  },
  {
   "cell_type": "markdown",
   "id": "09bc453c",
   "metadata": {},
   "source": [
    "#### Delete endpoint"
   ]
  },
  {
   "cell_type": "code",
   "execution_count": null,
   "id": "0533d06c",
   "metadata": {},
   "outputs": [],
   "source": [
    "import os\n",
    "\n",
    "if not local_mode:\n",
    "    predictor.delete_endpoint()\n",
    "else:\n",
    "    os.system(\"docker container ls | grep 8080 | awk '{print $1}' | xargs docker container rm -f\")"
   ]
  },
  {
   "cell_type": "code",
   "execution_count": null,
   "id": "545b455a",
   "metadata": {},
   "outputs": [],
   "source": []
  }
 ],
 "metadata": {
  "kernelspec": {
   "display_name": "conda_pytorch_p38",
   "language": "python",
   "name": "conda_pytorch_p38"
  },
  "language_info": {
   "codemirror_mode": {
    "name": "ipython",
    "version": 3
   },
   "file_extension": ".py",
   "mimetype": "text/x-python",
   "name": "python",
   "nbconvert_exporter": "python",
   "pygments_lexer": "ipython3",
   "version": "3.8.12"
  }
 },
 "nbformat": 4,
 "nbformat_minor": 5
}
