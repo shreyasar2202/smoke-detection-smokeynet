{
 "cells": [
  {
   "cell_type": "code",
   "execution_count": null,
   "id": "afb3bcc8",
   "metadata": {},
   "outputs": [],
   "source": [
    "#this file should be run outside smoke-detection-smokeynet; But moving it in the folder just to commit it to github."
   ]
  },
  {
   "cell_type": "code",
   "execution_count": null,
   "id": "2259ad85",
   "metadata": {},
   "outputs": [],
   "source": []
  },
  {
   "cell_type": "code",
   "execution_count": null,
   "id": "3ea82568",
   "metadata": {},
   "outputs": [],
   "source": []
  },
  {
   "cell_type": "markdown",
   "id": "342ea005",
   "metadata": {},
   "source": [
    "Cloning the smokeynet github repository (https://github.com/shreyasar2202/smoke-detection-smokeynet/)"
   ]
  },
  {
   "cell_type": "code",
   "execution_count": null,
   "id": "7f81e8a2",
   "metadata": {},
   "outputs": [],
   "source": [
    "%%sh\n",
    "git clone https://github.com/shreyasar2202/smoke-detection-smokeynet.git"
   ]
  },
  {
   "cell_type": "markdown",
   "id": "26ec9ee5",
   "metadata": {},
   "source": [
    "Mounting EFS onto Sagemaker (Note: Unable to do this right now due to permission issue)"
   ]
  },
  {
   "cell_type": "code",
   "execution_count": null,
   "id": "2b882ffe",
   "metadata": {},
   "outputs": [],
   "source": [
    "#Unable to mount EFS due to permission issue\n",
    "%%sh \n",
    "sudo mount -t nfs \\\n",
    "    -o nfsvers=4.1,rsize=1048576,wsize=1048576,hard,timeo=600,retrans=2 \\\n",
    "    172.31.18.64:/ \\\n",
    "    ../efs\n",
    "\n",
    "sudo chmod go+rw ./efs"
   ]
  },
  {
   "cell_type": "markdown",
   "id": "74849fcf",
   "metadata": {},
   "source": [
    "Downloading the data set from https://hpwren.ucsd.edu/"
   ]
  },
  {
   "cell_type": "code",
   "execution_count": null,
   "id": "865e8471",
   "metadata": {},
   "outputs": [],
   "source": [
    "%%sh\n",
    "cd ../efs\n",
    "wget http://hpwren.ucsd.edu/HPWREN-FIgLib/HPWREN-FIgLib-Data.tar"
   ]
  },
  {
   "cell_type": "code",
   "execution_count": null,
   "id": "c1ac10a6",
   "metadata": {},
   "outputs": [],
   "source": [
    "%%sh\n",
    "tar -xf HPWREN-FIgLib-Data.tar"
   ]
  },
  {
   "cell_type": "markdown",
   "id": "249bd2e0",
   "metadata": {},
   "source": [
    "Installing required python version and libraries"
   ]
  },
  {
   "cell_type": "code",
   "execution_count": null,
   "id": "d0aa385e",
   "metadata": {},
   "outputs": [],
   "source": [
    "%%sh\n",
    "sudo yum -y install epel-release\n",
    "sudo yum -y update"
   ]
  },
  {
   "cell_type": "code",
   "execution_count": null,
   "id": "8588abbd",
   "metadata": {},
   "outputs": [],
   "source": [
    "%%sh\n",
    "sudo yum groupinstall \"Development Tools\" -y\n",
    "sudo yum install openssl-devel libffi-devel bzip2-devel -y\n"
   ]
  },
  {
   "cell_type": "code",
   "execution_count": null,
   "id": "e6e45d02",
   "metadata": {},
   "outputs": [],
   "source": [
    "#Getting python 3.9\n",
    "#%%sh\n",
    "# wget https://www.python.org/ftp/python/3.9.13/Python-3.9.13.tgz\n",
    "# tar xvf Python-3.9.13.tgz\n",
    "%%sh\n",
    "cd ../Python-3.9*/"
   ]
  },
  {
   "cell_type": "code",
   "execution_count": null,
   "id": "584f88b3",
   "metadata": {},
   "outputs": [],
   "source": [
    "%%sh\n",
    "./configure --enable-optimizations\n",
    "sudo make altinstall"
   ]
  },
  {
   "cell_type": "code",
   "execution_count": null,
   "id": "09e58f8d",
   "metadata": {},
   "outputs": [],
   "source": [
    "!pip3.9 install -r requirements.txt"
   ]
  },
  {
   "cell_type": "code",
   "execution_count": null,
   "id": "77012ad7",
   "metadata": {},
   "outputs": [],
   "source": [
    "%%sh\n",
    "tar -czvf last.tar.gz last.ckpt"
   ]
  }
 ],
 "metadata": {
  "kernelspec": {
   "display_name": "conda_python3",
   "language": "python",
   "name": "conda_python3"
  },
  "language_info": {
   "codemirror_mode": {
    "name": "ipython",
    "version": 3
   },
   "file_extension": ".py",
   "mimetype": "text/x-python",
   "name": "python",
   "nbconvert_exporter": "python",
   "pygments_lexer": "ipython3",
   "version": "3.8.12"
  }
 },
 "nbformat": 4,
 "nbformat_minor": 5
}
