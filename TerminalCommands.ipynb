{
 "cells": [
  {
   "cell_type": "code",
   "execution_count": null,
   "id": "f68d0a37",
   "metadata": {},
   "outputs": [],
   "source": [
    "#this file should be run outside smoke-detection-smokeynet; But moving it in the folder just to commit it to github."
   ]
  },
  {
   "cell_type": "markdown",
   "id": "42d4f613",
   "metadata": {},
   "source": [
    "Cloning the smokeynet github repository (https://github.com/shreyasar2202/smoke-detection-smokeynet/)"
   ]
  },
  {
   "cell_type": "code",
   "execution_count": null,
   "id": "023b62bd",
   "metadata": {},
   "outputs": [],
   "source": [
    "%%sh\n",
    "git clone https://github.com/shreyasar2202/smoke-detection-smokeynet.git"
   ]
  },
  {
   "cell_type": "markdown",
   "id": "d796cb0e",
   "metadata": {},
   "source": [
    "Mounting EFS onto Sagemaker (Note: Unable to do this right now due to permission issue)"
   ]
  },
  {
   "cell_type": "code",
   "execution_count": null,
   "id": "bec5ab82",
   "metadata": {},
   "outputs": [],
   "source": [
    "#Unable to mount EFS due to permission issue\n",
    "%%sh \n",
    "\n",
    "sudo mount -t nfs \\\n",
    "    -o nfsvers=4.1,rsize=1048576,wsize=1048576,hard,timeo=600,retrans=2 \\\n",
    "    172.31.28.45:/ \\\n",
    "    ./efs\n",
    "\n",
    "sudo chmod go+rw ./efs"
   ]
  },
  {
   "cell_type": "markdown",
   "id": "be844ac8",
   "metadata": {},
   "source": [
    "Downloading the data set from https://hpwren.ucsd.edu/"
   ]
  },
  {
   "cell_type": "code",
   "execution_count": null,
   "id": "46075b3a",
   "metadata": {},
   "outputs": [],
   "source": [
    "%%sh\n",
    "cd efs\n",
    "wget http://hpwren.ucsd.edu/HPWREN-FIgLib/HPWREN-FIgLib-Data.tar"
   ]
  },
  {
   "cell_type": "code",
   "execution_count": null,
   "id": "27518a66",
   "metadata": {},
   "outputs": [],
   "source": [
    "%%sh\n",
    "tar -xf HPWREN-FIgLib-Data.tar"
   ]
  },
  {
   "cell_type": "markdown",
   "id": "00fa817f",
   "metadata": {},
   "source": [
    "Installing required python version and libraries"
   ]
  },
  {
   "cell_type": "code",
   "execution_count": null,
   "id": "4e3d7420",
   "metadata": {},
   "outputs": [],
   "source": [
    "%%sh\n",
    "sudo yum -y install epel-release\n",
    "sudo yum -y update"
   ]
  },
  {
   "cell_type": "code",
   "execution_count": null,
   "id": "8444a5a8",
   "metadata": {},
   "outputs": [],
   "source": [
    "%%sh\n",
    "sudo yum groupinstall \"Development Tools\" -y\n",
    "sudo yum install openssl-devel libffi-devel bzip2-devel -y\n"
   ]
  },
  {
   "cell_type": "code",
   "execution_count": null,
   "id": "07484d97",
   "metadata": {},
   "outputs": [],
   "source": [
    "#Getting python 3.9\n",
    "%sh\n",
    "wget https://www.python.org/ftp/python/3.9.13/Python-3.9.13.tgz\n",
    "tar xvf Python-3.9.13.tgz\n",
    "cd Python-3.9*/"
   ]
  },
  {
   "cell_type": "code",
   "execution_count": null,
   "id": "b334ab83",
   "metadata": {},
   "outputs": [],
   "source": [
    "./configure --enable-optimizations\n",
    "sudo make altinstall"
   ]
  },
  {
   "cell_type": "code",
   "execution_count": null,
   "id": "0464dfbb",
   "metadata": {},
   "outputs": [],
   "source": [
    "!pip3.9 install -r requirements.txt"
   ]
  }
 ],
 "metadata": {
  "kernelspec": {
   "display_name": "conda_python3",
   "language": "python",
   "name": "conda_python3"
  },
  "language_info": {
   "codemirror_mode": {
    "name": "ipython",
    "version": 3
   },
   "file_extension": ".py",
   "mimetype": "text/x-python",
   "name": "python",
   "nbconvert_exporter": "python",
   "pygments_lexer": "ipython3",
   "version": "3.8.12"
  }
 },
 "nbformat": 4,
 "nbformat_minor": 5
}
